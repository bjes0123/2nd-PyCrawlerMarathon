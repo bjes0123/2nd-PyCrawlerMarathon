{
 "cells": [
  {
   "cell_type": "markdown",
   "metadata": {},
   "source": [
    "# PTT 網路爬蟲實作練習\n",
    "\n",
    "\n",
    "* 能夠利用 Request + BeatifulSour 撰寫爬蟲，並存放到合適的資料結構\n"
   ]
  },
  {
   "cell_type": "markdown",
   "metadata": {},
   "source": [
    "## 作業目標\n",
    "\n",
    "根據範例 ，完成以下問題：\n",
    "\n",
    "* ① 印出最新文章的「作者」「標題」「時間」\n",
    "* ② 印出第一頁所有文章的「作者」「標題」「時間」\n"
   ]
  },
  {
   "cell_type": "markdown",
   "metadata": {},
   "source": [
    "### ① 印出最新文章的「作者」「標題」「時間」"
   ]
  },
  {
   "cell_type": "code",
   "execution_count": 11,
   "metadata": {},
   "outputs": [
    {
     "name": "stdout",
     "output_type": "stream",
     "text": [
      "標題:  Re: [花邊] Jimmy Butler講當初會離開76人的原因\n",
      "作者:  Ten6666\n",
      "時間:   3/13\n",
      "標題:  Fw: [討論] 讓賽季繼續的方法\n",
      "作者:  Vedan\n",
      "時間:   3/13\n",
      "標題:  [情報] 籃網蔡崇信轉丁丁推特承諾照顧球館員工\n",
      "作者:  Yui5\n",
      "時間:   3/13\n",
      "標題:  [公告] 討論板規情報、花邊是否一定要翻譯(二)\n",
      "作者:  Vedan\n",
      "時間:   3/13\n",
      "標題:  [外絮] LiAngelo相信自己跟Lonzo和LaMelo一樣好\n",
      "作者:  jjeffrey1015\n",
      "時間:   3/14\n",
      "標題:  [新聞] 提醒防疫不忘幽默 波總請球迷重播勝仗\n",
      "作者:  firewulala\n",
      "時間:   3/14\n",
      "標題:  [花邊] 赴超市備齊生活必需品 記者排隊巧遇NBA球\n",
      "作者:  legend626\n",
      "時間:   3/14\n",
      "標題:  [外絮] 雷霆爵士 NBA最奇怪的那夜發生了什麼\n",
      "作者:  DavFlow\n",
      "時間:   3/14\n",
      "標題:  [情報] Zion承諾為主場員工付30日薪水\n",
      "作者:  DavFlow\n",
      "時間:   3/14\n",
      "標題:  [花邊] 小球迷確診武漢肺炎 曾跟爵士球員要簽名\n",
      "作者:  Malpais\n",
      "時間:   3/14\n",
      "標題:  [新聞] 不回中國打球就終身禁賽　林書豪面臨抉擇\n",
      "作者:  MEKE0000\n",
      "時間:   3/14\n",
      "標題:  Re: [情報] Zion承諾為主場員工付30日薪水\n",
      "作者:  TheoEpstein\n",
      "時間:   3/14\n",
      "標題:  (本文已被刪除) [currykukuo]\n",
      "作者:  -\n",
      "時間:   3/14\n",
      "標題:  [情報] Smart:從另個角度看，我不會再被罰款啦\n",
      "作者:  Yui5\n",
      "時間:   3/14\n",
      "標題:  [花邊] 槍殺喬丹父親的兇手之一將獲得假釋\n",
      "作者:  Yui5\n",
      "時間:   3/14\n",
      "標題:  [花邊] Trae Young:這病毒逼我學習怎麼打遊戲\n",
      "作者:  currykukuo\n",
      "時間:   3/14\n",
      "標題:  (本文已被刪除) [melman87]\n",
      "作者:  -\n",
      "時間:   3/14\n",
      "標題:  [新聞] NBA染疫風暴暫告解除　爵士交手5隊檢疫全過關\n",
      "作者:  currykukuo\n",
      "時間:   3/14\n",
      "標題:  [新聞] 賽季短時間內重啟？ 格林抱持悲觀態度\n",
      "作者:  Yui5\n",
      "時間:   3/14\n",
      "標題:  [花邊] 停賽期間沒閒著　拓荒者CJ：回辦公室搞\n",
      "作者:  fukawa947\n",
      "時間:   3/14\n",
      "標題:  [公告] 板規v6.8\n",
      "作者:  Vedan\n",
      "時間:   5/24\n",
      "標題:  [公告] 版主上任相關事項 \n",
      "作者:  qazwsx879345\n",
      "時間:  10/25\n",
      "標題:  [情報] SEASON Schedule 賽程 March 19–20\n",
      "作者:  Acetoxy\n",
      "時間:   3/02\n",
      "標題:  [公告] 第一次被退文，可在三天後刪除退文\n",
      "作者:  Vedan\n",
      "時間:   3/09\n",
      "標題:  [公告]大怒灌 \n",
      "作者:  namie810303\n",
      "時間:   3/12\n"
     ]
    }
   ],
   "source": [
    "import requests\n",
    "from bs4 import BeautifulSoup\n",
    "\n",
    "url = 'https://www.ptt.cc/bbs/NBA/index.html'\n",
    "r = requests.get(url)\n",
    "\n",
    "soup = BeautifulSoup(r.text, \"html5lib\")\n",
    "\n"
   ]
  },
  {
   "cell_type": "code",
   "execution_count": null,
   "metadata": {},
   "outputs": [],
   "source": []
  },
  {
   "cell_type": "markdown",
   "metadata": {},
   "source": [
    "### ② 印出第一頁所有文章的「作者」「標題」「時間」"
   ]
  },
  {
   "cell_type": "code",
   "execution_count": 12,
   "metadata": {},
   "outputs": [
    {
     "name": "stdout",
     "output_type": "stream",
     "text": [
      "標題:  Re: [花邊] Jimmy Butler講當初會離開76人的原因\n",
      "作者:  Ten6666\n",
      "時間:   3/13\n",
      "標題:  Fw: [討論] 讓賽季繼續的方法\n",
      "作者:  Vedan\n",
      "時間:   3/13\n",
      "標題:  [情報] 籃網蔡崇信轉丁丁推特承諾照顧球館員工\n",
      "作者:  Yui5\n",
      "時間:   3/13\n",
      "標題:  [公告] 討論板規情報、花邊是否一定要翻譯(二)\n",
      "作者:  Vedan\n",
      "時間:   3/13\n",
      "標題:  [外絮] LiAngelo相信自己跟Lonzo和LaMelo一樣好\n",
      "作者:  jjeffrey1015\n",
      "時間:   3/14\n",
      "標題:  [新聞] 提醒防疫不忘幽默 波總請球迷重播勝仗\n",
      "作者:  firewulala\n",
      "時間:   3/14\n",
      "標題:  [花邊] 赴超市備齊生活必需品 記者排隊巧遇NBA球\n",
      "作者:  legend626\n",
      "時間:   3/14\n",
      "標題:  [外絮] 雷霆爵士 NBA最奇怪的那夜發生了什麼\n",
      "作者:  DavFlow\n",
      "時間:   3/14\n",
      "標題:  [情報] Zion承諾為主場員工付30日薪水\n",
      "作者:  DavFlow\n",
      "時間:   3/14\n",
      "標題:  [花邊] 小球迷確診武漢肺炎 曾跟爵士球員要簽名\n",
      "作者:  Malpais\n",
      "時間:   3/14\n",
      "標題:  [新聞] 不回中國打球就終身禁賽　林書豪面臨抉擇\n",
      "作者:  MEKE0000\n",
      "時間:   3/14\n",
      "標題:  Re: [情報] Zion承諾為主場員工付30日薪水\n",
      "作者:  TheoEpstein\n",
      "時間:   3/14\n",
      "標題:  (本文已被刪除) [currykukuo]\n",
      "作者:  -\n",
      "時間:   3/14\n",
      "標題:  [情報] Smart:從另個角度看，我不會再被罰款啦\n",
      "作者:  Yui5\n",
      "時間:   3/14\n",
      "標題:  [花邊] 槍殺喬丹父親的兇手之一將獲得假釋\n",
      "作者:  Yui5\n",
      "時間:   3/14\n",
      "標題:  [花邊] Trae Young:這病毒逼我學習怎麼打遊戲\n",
      "作者:  currykukuo\n",
      "時間:   3/14\n",
      "標題:  (本文已被刪除) [melman87]\n",
      "作者:  -\n",
      "時間:   3/14\n",
      "標題:  [新聞] NBA染疫風暴暫告解除　爵士交手5隊檢疫全過關\n",
      "作者:  currykukuo\n",
      "時間:   3/14\n",
      "標題:  [新聞] 賽季短時間內重啟？ 格林抱持悲觀態度\n",
      "作者:  Yui5\n",
      "時間:   3/14\n",
      "標題:  [花邊] 停賽期間沒閒著　拓荒者CJ：回辦公室搞\n",
      "作者:  fukawa947\n",
      "時間:   3/14\n",
      "標題:  [公告] 板規v6.8\n",
      "作者:  Vedan\n",
      "時間:   5/24\n",
      "標題:  [公告] 版主上任相關事項 \n",
      "作者:  qazwsx879345\n",
      "時間:  10/25\n",
      "標題:  [情報] SEASON Schedule 賽程 March 19–20\n",
      "作者:  Acetoxy\n",
      "時間:   3/02\n",
      "標題:  [公告] 第一次被退文，可在三天後刪除退文\n",
      "作者:  Vedan\n",
      "時間:   3/09\n",
      "標題:  [公告]大怒灌 \n",
      "作者:  namie810303\n",
      "時間:   3/12\n"
     ]
    }
   ],
   "source": [
    "for d in soup.find_all(class_=\"r-ent\"):\n",
    "    print('標題: ', d.find(class_='title').text.replace('\\t','').replace('\\n',''))\n",
    "    print('作者: ', d.find(class_='author').text.replace('\\t','').replace('\\n',''))\n",
    "    print('時間: ', d.find(class_='date').text.replace('\\t','').replace('\\n',''))"
   ]
  },
  {
   "cell_type": "markdown",
   "metadata": {},
   "source": [
    "### ③ 試著爬爬看其他版的文章"
   ]
  },
  {
   "cell_type": "code",
   "execution_count": 8,
   "metadata": {},
   "outputs": [
    {
     "name": "stdout",
     "output_type": "stream",
     "text": [
      "[新聞] 嘉義狼師摸女學生胸丶下體 要求「抽浴巾」誘傳裸體視訊\n",
      "Re: [閒聊] 女生該怎麼主導比較好呢\n",
      "[討論] 台灣有正的偽娘嗎？\n",
      "[討論] 有人在本版约成功的吗？\n",
      "<pzhao> 1-3-9 by 紅\n",
      "[新聞] 瞎！人夫偷吃想抽身 竟罵人妻小三「奶下\n",
      "[創作] 下雨天\n",
      "Re: [閒聊] 為什麼鄉民對 F 奶這麼有興趣\n",
      "[閒聊] 脫下來 直接 插進去 \n",
      "(本文已被刪除) [lpbrother]\n",
      "[公告] 西斯板規 Ver 6.2.9\n",
      "Fw: [公告] 請使用者多加注意我國保護兒少的法令\n",
      "[公告] 2019 冬季徵文 結果 暨 得獎名單\n",
      "[公告] 2020 叁月 西斯置底閒聊區\n"
     ]
    }
   ],
   "source": [
    "import requests\n",
    "from bs4 import BeautifulSoup\n",
    "\n",
    "url = 'https://www.ptt.cc/bbs/sex/index.html'\n",
    "r = requests.get(url, cookies={'over18': '1'})\n",
    "\n",
    "soup = BeautifulSoup(r.text, \"html5lib\")\n",
    "\n",
    "for d in soup.find_all(class_=\"title\"):\n",
    "    print(d.text.replace('\\t', '').replace('\\n', ''))\n",
    "    try:\n",
    "        r = BeautifulSoup(requests.get('https://www.ptt.cc'+d.find('a')['href']).text, \"html5lib\")\n",
    "        print('作者: ' + r.find(class_='article-meta-value').text)\n",
    "    except:\n",
    "        continue"
   ]
  }
 ],
 "metadata": {
  "kernelspec": {
   "display_name": "Python 3",
   "language": "python",
   "name": "python3"
  },
  "language_info": {
   "codemirror_mode": {
    "name": "ipython",
    "version": 3
   },
   "file_extension": ".py",
   "mimetype": "text/x-python",
   "name": "python",
   "nbconvert_exporter": "python",
   "pygments_lexer": "ipython3",
   "version": "3.7.4"
  }
 },
 "nbformat": 4,
 "nbformat_minor": 2
}
